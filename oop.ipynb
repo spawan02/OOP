{
  "nbformat": 4,
  "nbformat_minor": 0,
  "metadata": {
    "colab": {
      "provenance": []
    },
    "kernelspec": {
      "name": "python3",
      "display_name": "Python 3"
    },
    "language_info": {
      "name": "python"
    }
  },
  "cells": [
    {
      "cell_type": "code",
      "execution_count": null,
      "metadata": {
        "id": "xg37ZUby0nUo"
      },
      "outputs": [],
      "source": [
        "l=list()\n"
      ]
    },
    {
      "cell_type": "code",
      "source": [
        "l=[1,1,2,]\n",
        "print(type(l))"
      ],
      "metadata": {
        "colab": {
          "base_uri": "https://localhost:8080/"
        },
        "id": "1fZerdcu0skW",
        "outputId": "7dad2fde-ac2e-425f-e685-1b617dc1d246"
      },
      "execution_count": null,
      "outputs": [
        {
          "output_type": "stream",
          "name": "stdout",
          "text": [
            "<class 'list'>\n"
          ]
        }
      ]
    },
    {
      "cell_type": "code",
      "source": [
        "class MyAtm:\n",
        "  #constructor(special function)->superpower->it executes automatically\n",
        "  def __init__(self):\n",
        "     self.pin=\"\"\n",
        "     self.balance=0\n",
        "     print(id(self))\n",
        "    #  print('mai to execute ho gaya')\n",
        "     #self.menu()\n",
        "  def menu(self):\n",
        "    user_input=input(\"\"\"Hi how can you help?\n",
        "    1. press 1 to create pin\n",
        "    2. press 2 to change pin\n",
        "    3. press 3 to check balance\n",
        "    4. press 4 to withdrawn\n",
        "    5. anything else to exit\n",
        "    \"\"\")\n",
        "    if user_input==\"1\":\n",
        "      #create pin\n",
        "      self.create_pin()\n",
        "    elif user_input==\"2\":\n",
        "      #change pin\n",
        "      self.change_pin()\n",
        "    elif user_input==\"3\":\n",
        "      #check balance\n",
        "      self.check_balance()\n",
        "    elif user_input==\"4\":\n",
        "      #withdraw\n",
        "      self.withdrawn()\n",
        "    else:\n",
        "      exit()\n",
        "\n",
        "  def create_pin(self):\n",
        "    user_pin=input(\"enter your pin\")\n",
        "    self.pin=user_pin\n",
        "    user_balance=input(\"enter balance\")\n",
        "    self.balance=user_balance\n",
        "    print(\"pin created successfully\")\n",
        "    self.menu()\n",
        "\n",
        "  def change_pin(self):\n",
        "    old_pin=input(\"enter old pin\")\n",
        "    if old_pin==self.pin:\n",
        "      #let him change\n",
        "      new_pin=input('enter new pin')\n",
        "      self.pin=new_pin\n",
        "      print(\"pin change successful\")\n",
        "    else:\n",
        "      print(\"can't change\")\n",
        "      self.menu()\n",
        "  def check_balance(self):\n",
        "    user_pin=input(\"enter pin\")\n",
        "    if user_pin==self.pin:\n",
        "      print(f\"your balance is {self.balance}\")\n",
        "    else:\n",
        "      print(\"nikal aiya se\")\n",
        "  def withdrawn(self):\n",
        "    user_pin=input(\"enter pin\")\n",
        "    if user_pin==self.pin:\n",
        "      amount=int(input(\"enter amount\"))\n",
        "      if amount<=int(self.balance):\n",
        "        self.balance-=amount\n",
        "        print(\"withdrawal successfull \\n balance is \", self.balance)\n",
        "      else:\n",
        "        print(\"low balance\")\n",
        "    else:\n",
        "      print(\"wrong pin\")\n",
        "    self.menu()"
      ],
      "metadata": {
        "id": "UwyZf_PK06MU"
      },
      "execution_count": null,
      "outputs": []
    },
    {
      "cell_type": "code",
      "source": [
        "obj=MyAtm()"
      ],
      "metadata": {
        "colab": {
          "base_uri": "https://localhost:8080/"
        },
        "id": "JPM8VXFI-Dhs",
        "outputId": "cbf287e7-e7b5-4e45-e571-567ac8e1d5bb"
      },
      "execution_count": null,
      "outputs": [
        {
          "output_type": "stream",
          "name": "stdout",
          "text": [
            "133837306006928\n"
          ]
        }
      ]
    },
    {
      "cell_type": "code",
      "source": [
        "id(obj)"
      ],
      "metadata": {
        "colab": {
          "base_uri": "https://localhost:8080/"
        },
        "id": "ZQK9Eza__eWV",
        "outputId": "c66af2bb-e72e-44ed-fd2e-d744b798fbf3"
      },
      "execution_count": null,
      "outputs": [
        {
          "output_type": "execute_result",
          "data": {
            "text/plain": [
              "133837306006928"
            ]
          },
          "metadata": {},
          "execution_count": 3
        }
      ]
    },
    {
      "cell_type": "code",
      "source": [
        "class Fraction:\n",
        "  #parameterised constructor\n",
        "  def __init__(self, x, y):\n",
        "    self.num=x\n",
        "    self.den=y\n",
        "  def __str__(self):\n",
        "    return f\"{self.num}/{self.den}\"\n",
        "  def __add__(self, other):\n",
        "    new_num=self.num*other.den+other.num*self.den\n",
        "    new_den=self.den*other.den\n",
        "    return f\"{new_num}/{new_den}\"\n",
        "  def __sub__(self, other):\n",
        "    new_num=self.num*other.den-other.num*self.den\n",
        "    new_den=self.den*other.den\n",
        "    return f\"{new_num}/{new_den}\"\n",
        "  def __mul__(self, other):\n",
        "    new_num=self.num*other.num\n",
        "    new_den=self.den*other.den\n",
        "    return f\"{new_num}/{new_den}\""
      ],
      "metadata": {
        "id": "keBiW3XHPKbV"
      },
      "execution_count": null,
      "outputs": []
    },
    {
      "cell_type": "code",
      "source": [
        "fr1=Fraction(3,4)"
      ],
      "metadata": {
        "id": "WJeI15pJRvt8"
      },
      "execution_count": null,
      "outputs": []
    },
    {
      "cell_type": "code",
      "source": [
        "fr2=Fraction(1,2)"
      ],
      "metadata": {
        "id": "9U01J6UKRzRF"
      },
      "execution_count": null,
      "outputs": []
    },
    {
      "cell_type": "code",
      "source": [
        "print(fr1+fr2)"
      ],
      "metadata": {
        "colab": {
          "base_uri": "https://localhost:8080/"
        },
        "id": "IuSVkerfUBKL",
        "outputId": "d06a5fc2-5ba7-4e56-80c4-f0d6e24c5e68"
      },
      "execution_count": null,
      "outputs": [
        {
          "output_type": "stream",
          "name": "stdout",
          "text": [
            "10/8\n"
          ]
        }
      ]
    },
    {
      "cell_type": "code",
      "source": [
        "class Point:\n",
        "  def __init__(self, x, y):\n",
        "    self.x_cod=x\n",
        "    self.y_cod=y\n",
        "  def __str__(self):\n",
        "    return f'<{self.x_cod}, {self.y_cod}>'\n",
        "  def euclidean_distance(self, other):\n",
        "        return ((self.x_cod-other.x_cod)**2 + (self.y_cod-other.y_cod)**2)**0.5\n",
        "  def distance_from_origin(self):\n",
        "    return self.euclidean_distance(Point(0,0))\n",
        "class Line:\n",
        "  def __init__(self, A, B, C):\n",
        "    self.A=A\n",
        "    self.B=B\n",
        "    self.C=C\n",
        "  def __str__(self):\n",
        "    return f'{self.A}x+{self.B}y+{self.C}=0'\n",
        "  def point_on_line(line, point):\n",
        "    if line.A*point.x_cod+line.B*point.y_cod+line.C==0:\n",
        "      return 'lies on line'\n",
        "    else:\n",
        "      return \"does not lie\"\n",
        "  def shortest_distance(line, point):\n",
        "    return abs(line.A*point.x_cod + line.B*point.y_cod + line.C)/(line.A**2 + line.B**2)**0.5"
      ],
      "metadata": {
        "id": "NzqiGJ9PUz5o"
      },
      "execution_count": null,
      "outputs": []
    },
    {
      "cell_type": "code",
      "source": [
        "p1=Point(0,0)\n",
        "p2=Point(10,10)\n",
        "p1.euclidean_distance(p2)\n",
        "p1.distance_from_origin()\n"
      ],
      "metadata": {
        "colab": {
          "base_uri": "https://localhost:8080/"
        },
        "id": "0URn6t1rLDbK",
        "outputId": "94989a1c-6332-4b4e-cc52-e0a0cc1a028f"
      },
      "execution_count": null,
      "outputs": [
        {
          "output_type": "execute_result",
          "data": {
            "text/plain": [
              "0.0"
            ]
          },
          "metadata": {},
          "execution_count": 32
        }
      ]
    },
    {
      "cell_type": "code",
      "source": [
        "l1=Line(1,1,-2)\n",
        "p2=Point(1,1)\n",
        "print(l1)\n",
        "print(p2)\n",
        "\n",
        "l1.shortest_distance(p2)\n"
      ],
      "metadata": {
        "colab": {
          "base_uri": "https://localhost:8080/"
        },
        "id": "BL9czK0yLGGW",
        "outputId": "714e6677-e470-409c-e3ba-0bbb5dc42c45"
      },
      "execution_count": null,
      "outputs": [
        {
          "output_type": "stream",
          "name": "stdout",
          "text": [
            "1x+1y+-2=0\n",
            "<1, 1>\n"
          ]
        },
        {
          "output_type": "execute_result",
          "data": {
            "text/plain": [
              "0.0"
            ]
          },
          "metadata": {},
          "execution_count": 42
        }
      ]
    },
    {
      "cell_type": "code",
      "source": [
        "class Person:\n",
        "  def __init__(self, name_input, country_input):\n",
        "    self.name=name_input\n",
        "    self.country=country_input\n",
        "  def greet(self):\n",
        "    if self.country=='india':\n",
        "      print(\"Namaste\", self.name)\n",
        "    else:\n",
        "      print(\"Hello\", self.name)"
      ],
      "metadata": {
        "id": "XfksMqZBP3Oz"
      },
      "execution_count": null,
      "outputs": []
    },
    {
      "cell_type": "code",
      "source": [
        "p=Person('pawan', 'india')\n",
        "q=p\n",
        "print(id(p))\n",
        "print(id(q))"
      ],
      "metadata": {
        "colab": {
          "base_uri": "https://localhost:8080/"
        },
        "id": "Bla6yUWeT74H",
        "outputId": "db8318f2-d032-4ada-9cb3-9ec74ba718ca"
      },
      "execution_count": null,
      "outputs": [
        {
          "output_type": "stream",
          "name": "stdout",
          "text": [
            "133484990597584\n",
            "133484990597584\n"
          ]
        }
      ]
    },
    {
      "cell_type": "code",
      "source": [
        " p.gender='male'"
      ],
      "metadata": {
        "id": "rotGc13MT_WE"
      },
      "execution_count": null,
      "outputs": []
    },
    {
      "cell_type": "code",
      "source": [
        "p.gender"
      ],
      "metadata": {
        "colab": {
          "base_uri": "https://localhost:8080/",
          "height": 36
        },
        "id": "NHh5Kx2CUfLL",
        "outputId": "f353130e-17a3-465c-f302-39c955b72ccc"
      },
      "execution_count": null,
      "outputs": [
        {
          "output_type": "execute_result",
          "data": {
            "text/plain": [
              "'male'"
            ],
            "application/vnd.google.colaboratory.intrinsic+json": {
              "type": "string"
            }
          },
          "metadata": {},
          "execution_count": 51
        }
      ]
    },
    {
      "cell_type": "code",
      "source": [
        "class customer:\n",
        "  def __init__(self, name, gender, address):\n",
        "    self.name=name\n",
        "    self.gender=gender\n",
        "    self.address=address\n",
        "\n",
        "  def print_address(self):\n",
        "    print(self.address.get_city(), self.address.pin, self.address.state)\n",
        "\n",
        "  def edit_profile(self, new_name, new_city, new_pin, new_state):\n",
        "    self.name=new_name\n",
        "    self.address.edit_address(new_city, new_pin, new_state)\n",
        "\n",
        "\n",
        "class address:\n",
        "  def __init__(self, city, pin, state):\n",
        "    self.__city=city\n",
        "    self.pin=pin\n",
        "    self.state=state\n",
        "\n",
        "  def get_city(self):\n",
        "    return self.__city\n",
        "\n",
        "  def edit_address(self, new_city, new_pin, new_state):\n",
        "    self.__city=new_city\n",
        "    self.pin=new_pin\n",
        "    self.state=new_state\n",
        "\n",
        "add1=address('gurgaon', 122, 'karnatake')\n",
        "cust=customer('pawan', 'm', add1)"
      ],
      "metadata": {
        "id": "h2ITob7VUhps"
      },
      "execution_count": 19,
      "outputs": []
    },
    {
      "cell_type": "code",
      "source": [
        "cust.print_address()\n",
        "cust.edit_profile('ankit', 'ban', 32, 'delhi')\n",
        "cust.print_address()"
      ],
      "metadata": {
        "colab": {
          "base_uri": "https://localhost:8080/"
        },
        "id": "lwmkIc9jfY5S",
        "outputId": "8f766930-a1b7-42ab-f0af-4eb4cbffb29d"
      },
      "execution_count": 20,
      "outputs": [
        {
          "output_type": "stream",
          "name": "stdout",
          "text": [
            "gurgaon 122 karnatake\n",
            "ban 32 delhi\n"
          ]
        }
      ]
    },
    {
      "cell_type": "code",
      "source": [
        "#inheritance\n"
      ],
      "metadata": {
        "id": "t-uA12Hyf6S2"
      },
      "execution_count": 21,
      "outputs": []
    },
    {
      "cell_type": "code",
      "source": [
        "#parent class\n",
        "class User:\n",
        "  def __init__(self):\n",
        "    self.name='nitish'\n",
        "  def login(self):\n",
        "    print('login')\n",
        "\n",
        "#child class\n",
        "class Student(User):\n",
        "  # def __init__(self):\n",
        "  #   self.roll_no=100\n",
        "  def enroll(self):\n",
        "    print(\"enroll into the course\")"
      ],
      "metadata": {
        "id": "2JQg44bboDb2"
      },
      "execution_count": 33,
      "outputs": []
    },
    {
      "cell_type": "code",
      "source": [
        "u=User()\n",
        "s=Student()\n",
        "print(s.name)"
      ],
      "metadata": {
        "colab": {
          "base_uri": "https://localhost:8080/"
        },
        "id": "GyVvjgjPoG4h",
        "outputId": "3f325805-957a-4b77-c3d6-b073f79ba742"
      },
      "execution_count": 34,
      "outputs": [
        {
          "output_type": "stream",
          "name": "stdout",
          "text": [
            "nitish\n"
          ]
        }
      ]
    },
    {
      "cell_type": "code",
      "source": [
        "class Phone:\n",
        "  def __init__(self, price, brand, camera):\n",
        "    print(\"inside phone constructor\")\n",
        "    self.__price=price\n",
        "    self.brand=brand\n",
        "    self.camera=camera\n",
        "  #getter\n",
        "  def show(self):\n",
        "    # print('inside show')\n",
        "    print(self.__price)\n",
        "\n",
        "class SmartPhone(Phone):\n",
        "  def check(self):\n",
        "    print(self.__price)\n",
        "s=SmartPhone(22344, 'apple', 34)\n",
        "s.show()"
      ],
      "metadata": {
        "colab": {
          "base_uri": "https://localhost:8080/"
        },
        "id": "K3HBuvTKo_es",
        "outputId": "b3671532-87f3-4ab1-b38d-54f13f793eaa"
      },
      "execution_count": 45,
      "outputs": [
        {
          "output_type": "stream",
          "name": "stdout",
          "text": [
            "inside phone constructor\n",
            "22344\n"
          ]
        }
      ]
    },
    {
      "cell_type": "code",
      "source": [
        "#super -> constructor\n",
        "class Phone:\n",
        "  def __init__(self, price, brand, camera):\n",
        "    print(\"inside phone character\")\n",
        "    self.price=price\n",
        "    self.brand=brand\n",
        "    self.camera=camera\n",
        "\n",
        "class SmartPhone(Phone):\n",
        "  def __init__(self, price, brand, camera, os, ram):\n",
        "    print('inside smartphone constructor')\n",
        "    super().__init__(price, brand, camera)\n",
        "    self.os=os\n",
        "    self.ram=ram\n",
        "\n",
        "s=SmartPhone(2000, 'samsung', 12, \"android\", 2)\n",
        "print(s.os)\n",
        "print(s.brand)"
      ],
      "metadata": {
        "colab": {
          "base_uri": "https://localhost:8080/"
        },
        "id": "xEPvNrqcr22A",
        "outputId": "a172e32e-ed9e-4867-e84e-e5fc14056145"
      },
      "execution_count": 49,
      "outputs": [
        {
          "output_type": "stream",
          "name": "stdout",
          "text": [
            "inside smartphone constructor\n",
            "inside phone character\n",
            "android\n",
            "samsung\n"
          ]
        }
      ]
    },
    {
      "cell_type": "code",
      "source": [
        "# Polymorphism\n",
        "\n",
        "class Shape:\n",
        "  def area(self, radius):\n",
        "    return 3.14*radius*radius\n",
        "  def area(self, l, b):\n",
        "    return l*b\n",
        "s=Shape()\n",
        "s.area(3,4)"
      ],
      "metadata": {
        "colab": {
          "base_uri": "https://localhost:8080/"
        },
        "id": "IxRIth0_vFU0",
        "outputId": "aba02430-0279-4113-9a64-5332c3fb08a1"
      },
      "execution_count": 54,
      "outputs": [
        {
          "output_type": "execute_result",
          "data": {
            "text/plain": [
              "12"
            ]
          },
          "metadata": {},
          "execution_count": 54
        }
      ]
    },
    {
      "cell_type": "code",
      "source": [],
      "metadata": {
        "id": "aQzXKfjP0ofu"
      },
      "execution_count": null,
      "outputs": []
    }
  ]
}